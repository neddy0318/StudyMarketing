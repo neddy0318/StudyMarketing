{
 "cells": [
  {
   "cell_type": "code",
   "execution_count": null,
   "metadata": {},
   "outputs": [],
   "source": []
  },
  {
   "cell_type": "markdown",
   "metadata": {},
   "source": [
    "## Funnel 분석\n",
    "\n",
    "\n",
    "### 1. 퍼널분석이란?\n",
    "\n",
    "&nbsp;&nbsp;&nbsp;퍼널 분석은 특정 매체 내에서 사용자들이 해당 매체의 최종 목적지까지 얼마나 도달하는 지를 알아내는 기법입니다. 이커머스를 예로 들면, '특정 상품 광고 노출 -> 해당 상품 조회 -> 장바구니 넣기 -> 구매'에 이르는 고객 유입 단계에서 얼마나 많은 사람들이 다음 단계로 넘어가는지, 그리고 최종 구매를 얼마나 하는지를 분석해내고, 궁극적으로는 이러한 분석을 통해 어떻게 더 많은 구매를 이끌어낼 것인지에 대한 전략을 수립하는 것이 기본 목적입니다. 예시로 든 사례의 경우만 보더라도 '광고 노출수'보다 '상품 조회수'가, 그리고 그 뒤의 단계들이 각각 그 전의 단계들보다 그 수가 적기 때문에 퍼널Funnel(깔대기)라는 이름이 붙었습니다. 이를 아래와 같은 그래프 혹은 이미지를 통해 더욱 쉽게 이해할 수 있습니다.\n",
    "\n",
    "\n",
    "<img src=\"https://whatfix.com/blog/wp-content/uploads/2022/11/Funnel-Analysis-1024x704.png\" alt=\"Funnel Analysis\" width=\"500\" height=\"350\"/>\n",
    "\n",
    "***<출처:https://whatfix.com/blog/funnel-analysis/>***\n",
    "\n",
    "&nbsp;&nbsp;&nbsp;각 단계를 넘어가는 것을 전환(conversion)이라 하며, 그 비율은 전환율(conversion rate)이라고 합니다.\n",
    "\n",
    "\n",
    "\n",
    "\n",
    "\n",
    "### 2. 최종 목적지에 도달하는 수를 늘리려면?\n",
    "\n",
    "&nbsp;&nbsp;&nbsp;그렇다면 최종 목적지에 도달하는 고객 수를 어떻게 늘릴 수 있을까요?\n",
    "\n",
    "&nbsp;&nbsp;&nbsp;**1. 최초 유입량 늘리기 :** 가장 단순하고 간단한 방법으로, 말 그대로 최초 단계에 대한 고객 유입량 자체를 늘리는 것입니다. 처음 예시로 든 사례의 경우, 광고 비용과 그에 따른 광고량을 늘리면 해당 광고에 노출되는 사람도 자연스럽게 늘어날 수밖에 없을 것이고, 전환율에 변화가 없더라도 최종 구매 고객 수의 절대량 자체는 늘어날 수밖에 없겠죠.\n",
    "\n",
    "&nbsp;&nbsp;&nbsp;**2. 각 퍼널의 문제점 분석 및 개선 :** 각 퍼널 단계의 문제점을 디테일하게 분석해서 전환율을 끌어올리는 방법입니다. 가령 A라는 제품에 대해 같은 회사의 다른 제품이나 다른 회사의 같은 혹은 비슷한 제품과 비교 분석을 한 결과, A제품의 퍼널이 좋지 않게 나왔다면 광고 자체를 개선하던가, 홈페이지를 개선하던가 하는 식의 대안을 마련해 최종 구매 고객 수를 늘릴 수 있겠죠.\n",
    "\n",
    "&nbsp;&nbsp;&nbsp;**3. 전체 단계 줄이기 :** 퍼널의 단계를 줄이는 것도 좋은 방법이 될 수 있습니다. 단계가 복잡하고 길면 길수록 네트워크 에러로든, 귀찮음이든, 혹은 다른 이유로든 도중에 이탈하는 고객이 늘 수밖에 없으니까요. 가장 대표적인 예로, 최근 여러 사이트들에서 '카카오톡으로 시작하기'를 통해 가입 절차를 단순화한 것을 들 수 있습니다. 기존에 페이지를 넘겨가며 개인정보를 하나하나 입력하는 것보다 단계가 훨씬 짧으니 가입이 원활해지고, 그 결과 '회원 수 증가'라는 목표를 훨씬 쉽게 달성할 수 있겠죠.\n",
    "\n",
    "\n",
    "### 3. 참고 자료\n",
    "&nbsp;&nbsp;&nbsp;https://whatfix.com/blog/funnel-analysis/\n",
    "\n",
    "&nbsp;&nbsp;&nbsp;https://datarian.io/blog/funnel-analysis\n",
    "\n",
    "&nbsp;&nbsp;&nbsp;https://blog.naver.com/ttopp99/222358298104\n",
    "\n",
    "\n",
    "### 4. 실습해보기 : 고객 세그먼트별 퍼널을 분석해보자!\n",
    "\n",
    "&nbsp;&nbsp;&nbsp;-주요 사용 library : pandas, numpy, plotly\n",
    "\n",
    "&nbsp;&nbsp;&nbsp;-주요 사용 함수 : merge_asof, groupby\n",
    "\n",
    "&nbsp;&nbsp;&nbsp;-자료 출처 : https://www.kaggle.com/datasets/mkechinov/ecommerce-events-history-in-cosmetics-shop?resource=download&select=2019-Nov.csv\n",
    "\n",
    "&nbsp;&nbsp;&nbsp;-일러두기 : 5개월치의 고객 로그 데이터 통합한 뒤 rfm을 기준으로 클러스터링하고 'vip', '우수고객', '중요고객', '일반고객', '이탈고객', '비구매고객'으로 미리 나눴습니다. 그리고 이를 'segment'칼럼에 추가했습니다."
   ]
  },
  {
   "cell_type": "code",
   "execution_count": 2,
   "metadata": {},
   "outputs": [],
   "source": [
    "import pandas as pd\n",
    "import numpy as np"
   ]
  },
  {
   "cell_type": "markdown",
   "metadata": {},
   "source": [
    "### 데이터 불러오기 및 전처리"
   ]
  },
  {
   "cell_type": "code",
   "execution_count": 3,
   "metadata": {},
   "outputs": [],
   "source": [
    "whole_cluster = pd.read_parquet('C:/Users/neddy/Desktop/새 프로젝트/whole_cluster.parquet')\n",
    "whole_cluster['time'] = pd.to_datetime(whole_cluster['time'])"
   ]
  },
  {
   "cell_type": "code",
   "execution_count": 18,
   "metadata": {},
   "outputs": [
    {
     "data": {
      "text/html": [
       "<div>\n",
       "<style scoped>\n",
       "    .dataframe tbody tr th:only-of-type {\n",
       "        vertical-align: middle;\n",
       "    }\n",
       "\n",
       "    .dataframe tbody tr th {\n",
       "        vertical-align: top;\n",
       "    }\n",
       "\n",
       "    .dataframe thead th {\n",
       "        text-align: right;\n",
       "    }\n",
       "</style>\n",
       "<table border=\"1\" class=\"dataframe\">\n",
       "  <thead>\n",
       "    <tr style=\"text-align: right;\">\n",
       "      <th></th>\n",
       "      <th>Unnamed: 0</th>\n",
       "      <th>event_time</th>\n",
       "      <th>event_type</th>\n",
       "      <th>product_id</th>\n",
       "      <th>category_id</th>\n",
       "      <th>category_code</th>\n",
       "      <th>brand</th>\n",
       "      <th>price</th>\n",
       "      <th>user_id</th>\n",
       "      <th>user_session</th>\n",
       "      <th>time</th>\n",
       "      <th>segment</th>\n",
       "      <th>cluster_5</th>\n",
       "    </tr>\n",
       "  </thead>\n",
       "  <tbody>\n",
       "    <tr>\n",
       "      <th>0</th>\n",
       "      <td>0</td>\n",
       "      <td>2019-10-01 00:00:00 UTC</td>\n",
       "      <td>cart</td>\n",
       "      <td>5773203</td>\n",
       "      <td>1487580005134238553</td>\n",
       "      <td>None</td>\n",
       "      <td>runail</td>\n",
       "      <td>2.62</td>\n",
       "      <td>463240011</td>\n",
       "      <td>26dd6e6e-4dac-4778-8d2c-92e149dab885</td>\n",
       "      <td>2019-10-01 00:00:00+00:00</td>\n",
       "      <td>이탈고객</td>\n",
       "      <td>1.0</td>\n",
       "    </tr>\n",
       "    <tr>\n",
       "      <th>1</th>\n",
       "      <td>1</td>\n",
       "      <td>2019-10-01 00:00:03 UTC</td>\n",
       "      <td>cart</td>\n",
       "      <td>5773353</td>\n",
       "      <td>1487580005134238553</td>\n",
       "      <td>None</td>\n",
       "      <td>runail</td>\n",
       "      <td>2.62</td>\n",
       "      <td>463240011</td>\n",
       "      <td>26dd6e6e-4dac-4778-8d2c-92e149dab885</td>\n",
       "      <td>2019-10-01 00:00:03+00:00</td>\n",
       "      <td>이탈고객</td>\n",
       "      <td>1.0</td>\n",
       "    </tr>\n",
       "    <tr>\n",
       "      <th>2</th>\n",
       "      <td>2</td>\n",
       "      <td>2019-10-01 00:00:07 UTC</td>\n",
       "      <td>cart</td>\n",
       "      <td>5881589</td>\n",
       "      <td>2151191071051219817</td>\n",
       "      <td>None</td>\n",
       "      <td>lovely</td>\n",
       "      <td>13.48</td>\n",
       "      <td>429681830</td>\n",
       "      <td>49e8d843-adf3-428b-a2c3-fe8bc6a307c9</td>\n",
       "      <td>2019-10-01 00:00:07+00:00</td>\n",
       "      <td>이탈고객</td>\n",
       "      <td>1.0</td>\n",
       "    </tr>\n",
       "    <tr>\n",
       "      <th>3</th>\n",
       "      <td>3</td>\n",
       "      <td>2019-10-01 00:00:07 UTC</td>\n",
       "      <td>cart</td>\n",
       "      <td>5723490</td>\n",
       "      <td>1487580005134238553</td>\n",
       "      <td>None</td>\n",
       "      <td>runail</td>\n",
       "      <td>2.62</td>\n",
       "      <td>463240011</td>\n",
       "      <td>26dd6e6e-4dac-4778-8d2c-92e149dab885</td>\n",
       "      <td>2019-10-01 00:00:07+00:00</td>\n",
       "      <td>이탈고객</td>\n",
       "      <td>1.0</td>\n",
       "    </tr>\n",
       "    <tr>\n",
       "      <th>4</th>\n",
       "      <td>4</td>\n",
       "      <td>2019-10-01 00:00:15 UTC</td>\n",
       "      <td>cart</td>\n",
       "      <td>5881449</td>\n",
       "      <td>1487580013522845895</td>\n",
       "      <td>None</td>\n",
       "      <td>lovely</td>\n",
       "      <td>0.56</td>\n",
       "      <td>429681830</td>\n",
       "      <td>49e8d843-adf3-428b-a2c3-fe8bc6a307c9</td>\n",
       "      <td>2019-10-01 00:00:15+00:00</td>\n",
       "      <td>이탈고객</td>\n",
       "      <td>1.0</td>\n",
       "    </tr>\n",
       "    <tr>\n",
       "      <th>...</th>\n",
       "      <td>...</td>\n",
       "      <td>...</td>\n",
       "      <td>...</td>\n",
       "      <td>...</td>\n",
       "      <td>...</td>\n",
       "      <td>...</td>\n",
       "      <td>...</td>\n",
       "      <td>...</td>\n",
       "      <td>...</td>\n",
       "      <td>...</td>\n",
       "      <td>...</td>\n",
       "      <td>...</td>\n",
       "      <td>...</td>\n",
       "    </tr>\n",
       "    <tr>\n",
       "      <th>20692704</th>\n",
       "      <td>4156677</td>\n",
       "      <td>2020-02-29 23:59:32 UTC</td>\n",
       "      <td>view</td>\n",
       "      <td>5885416</td>\n",
       "      <td>1487580005092295511</td>\n",
       "      <td>None</td>\n",
       "      <td>grattol</td>\n",
       "      <td>6.27</td>\n",
       "      <td>622082947</td>\n",
       "      <td>fb29909b-6ef5-4662-b4ee-288e73e5dc10</td>\n",
       "      <td>2020-02-29 23:59:32+00:00</td>\n",
       "      <td>비구매고객</td>\n",
       "      <td>NaN</td>\n",
       "    </tr>\n",
       "    <tr>\n",
       "      <th>20692705</th>\n",
       "      <td>4156678</td>\n",
       "      <td>2020-02-29 23:59:39 UTC</td>\n",
       "      <td>cart</td>\n",
       "      <td>5550686</td>\n",
       "      <td>1487580008145748965</td>\n",
       "      <td>None</td>\n",
       "      <td>None</td>\n",
       "      <td>1.11</td>\n",
       "      <td>459705611</td>\n",
       "      <td>05d2add3-01f7-47ee-8364-27341673227f</td>\n",
       "      <td>2020-02-29 23:59:39+00:00</td>\n",
       "      <td>VIP</td>\n",
       "      <td>3.0</td>\n",
       "    </tr>\n",
       "    <tr>\n",
       "      <th>20692706</th>\n",
       "      <td>4156679</td>\n",
       "      <td>2020-02-29 23:59:45 UTC</td>\n",
       "      <td>view</td>\n",
       "      <td>5850628</td>\n",
       "      <td>1602943681873052386</td>\n",
       "      <td>None</td>\n",
       "      <td>grattol</td>\n",
       "      <td>5.24</td>\n",
       "      <td>622090043</td>\n",
       "      <td>ab7d349f-db5d-4790-8ab1-31e5c894459d</td>\n",
       "      <td>2020-02-29 23:59:45+00:00</td>\n",
       "      <td>비구매고객</td>\n",
       "      <td>NaN</td>\n",
       "    </tr>\n",
       "    <tr>\n",
       "      <th>20692707</th>\n",
       "      <td>4156680</td>\n",
       "      <td>2020-02-29 23:59:54 UTC</td>\n",
       "      <td>view</td>\n",
       "      <td>5716351</td>\n",
       "      <td>1487580010872045658</td>\n",
       "      <td>None</td>\n",
       "      <td>irisk</td>\n",
       "      <td>0.79</td>\n",
       "      <td>619841242</td>\n",
       "      <td>18af673b-7fb9-4202-a66d-5c855bc0fd2d</td>\n",
       "      <td>2020-02-29 23:59:54+00:00</td>\n",
       "      <td>비구매고객</td>\n",
       "      <td>NaN</td>\n",
       "    </tr>\n",
       "    <tr>\n",
       "      <th>20692708</th>\n",
       "      <td>4156681</td>\n",
       "      <td>2020-02-29 23:59:59 UTC</td>\n",
       "      <td>view</td>\n",
       "      <td>5927709</td>\n",
       "      <td>1487580013950664926</td>\n",
       "      <td>None</td>\n",
       "      <td>de.lux</td>\n",
       "      <td>3.17</td>\n",
       "      <td>621669991</td>\n",
       "      <td>daa3c677-5360-4327-847e-d29658716b99</td>\n",
       "      <td>2020-02-29 23:59:59+00:00</td>\n",
       "      <td>비구매고객</td>\n",
       "      <td>NaN</td>\n",
       "    </tr>\n",
       "  </tbody>\n",
       "</table>\n",
       "<p>20692709 rows × 13 columns</p>\n",
       "</div>"
      ],
      "text/plain": [
       "          Unnamed: 0               event_time event_type  product_id  \\\n",
       "0                  0  2019-10-01 00:00:00 UTC       cart     5773203   \n",
       "1                  1  2019-10-01 00:00:03 UTC       cart     5773353   \n",
       "2                  2  2019-10-01 00:00:07 UTC       cart     5881589   \n",
       "3                  3  2019-10-01 00:00:07 UTC       cart     5723490   \n",
       "4                  4  2019-10-01 00:00:15 UTC       cart     5881449   \n",
       "...              ...                      ...        ...         ...   \n",
       "20692704     4156677  2020-02-29 23:59:32 UTC       view     5885416   \n",
       "20692705     4156678  2020-02-29 23:59:39 UTC       cart     5550686   \n",
       "20692706     4156679  2020-02-29 23:59:45 UTC       view     5850628   \n",
       "20692707     4156680  2020-02-29 23:59:54 UTC       view     5716351   \n",
       "20692708     4156681  2020-02-29 23:59:59 UTC       view     5927709   \n",
       "\n",
       "                  category_id category_code    brand  price    user_id  \\\n",
       "0         1487580005134238553          None   runail   2.62  463240011   \n",
       "1         1487580005134238553          None   runail   2.62  463240011   \n",
       "2         2151191071051219817          None   lovely  13.48  429681830   \n",
       "3         1487580005134238553          None   runail   2.62  463240011   \n",
       "4         1487580013522845895          None   lovely   0.56  429681830   \n",
       "...                       ...           ...      ...    ...        ...   \n",
       "20692704  1487580005092295511          None  grattol   6.27  622082947   \n",
       "20692705  1487580008145748965          None     None   1.11  459705611   \n",
       "20692706  1602943681873052386          None  grattol   5.24  622090043   \n",
       "20692707  1487580010872045658          None    irisk   0.79  619841242   \n",
       "20692708  1487580013950664926          None   de.lux   3.17  621669991   \n",
       "\n",
       "                                  user_session                      time  \\\n",
       "0         26dd6e6e-4dac-4778-8d2c-92e149dab885 2019-10-01 00:00:00+00:00   \n",
       "1         26dd6e6e-4dac-4778-8d2c-92e149dab885 2019-10-01 00:00:03+00:00   \n",
       "2         49e8d843-adf3-428b-a2c3-fe8bc6a307c9 2019-10-01 00:00:07+00:00   \n",
       "3         26dd6e6e-4dac-4778-8d2c-92e149dab885 2019-10-01 00:00:07+00:00   \n",
       "4         49e8d843-adf3-428b-a2c3-fe8bc6a307c9 2019-10-01 00:00:15+00:00   \n",
       "...                                        ...                       ...   \n",
       "20692704  fb29909b-6ef5-4662-b4ee-288e73e5dc10 2020-02-29 23:59:32+00:00   \n",
       "20692705  05d2add3-01f7-47ee-8364-27341673227f 2020-02-29 23:59:39+00:00   \n",
       "20692706  ab7d349f-db5d-4790-8ab1-31e5c894459d 2020-02-29 23:59:45+00:00   \n",
       "20692707  18af673b-7fb9-4202-a66d-5c855bc0fd2d 2020-02-29 23:59:54+00:00   \n",
       "20692708  daa3c677-5360-4327-847e-d29658716b99 2020-02-29 23:59:59+00:00   \n",
       "\n",
       "         segment  cluster_5  \n",
       "0           이탈고객        1.0  \n",
       "1           이탈고객        1.0  \n",
       "2           이탈고객        1.0  \n",
       "3           이탈고객        1.0  \n",
       "4           이탈고객        1.0  \n",
       "...          ...        ...  \n",
       "20692704   비구매고객        NaN  \n",
       "20692705     VIP        3.0  \n",
       "20692706   비구매고객        NaN  \n",
       "20692707   비구매고객        NaN  \n",
       "20692708   비구매고객        NaN  \n",
       "\n",
       "[20692709 rows x 13 columns]"
      ]
     },
     "execution_count": 18,
     "metadata": {},
     "output_type": "execute_result"
    }
   ],
   "source": [
    "whole_cluster"
   ]
  },
  {
   "cell_type": "code",
   "execution_count": 4,
   "metadata": {},
   "outputs": [],
   "source": [
    "#전환율을 제대로 살펴보기 위해 우선 데이터 프레임을 일단 각 단계(view, cart, purchase, remove)로 나누고서 merge_asof로 다시 결합해줬습니다.\n",
    "#보통 '조회->장바구니->구매' 전환율을 계산할 때 각 단게별 텀을 1주일에서 한달 이내로 두는 것으로 아는데, 일단 임의로 1주일로 설정하고 이를 기준으로 나뉜 테이블을 다시 결합해주었습니다.\n",
    "\n",
    "view = whole_cluster[whole_cluster['event_type']=='view']\n",
    "cart = whole_cluster[whole_cluster['event_type']=='cart']\n",
    "purchase = whole_cluster[whole_cluster['event_type'] == 'purchase']\n",
    "remove = whole_cluster[whole_cluster['event_type'] == 'remove_from_cart']"
   ]
  },
  {
   "cell_type": "code",
   "execution_count": 5,
   "metadata": {},
   "outputs": [],
   "source": [
    "view_cart = pd.merge_asof(view, cart[['user_id', 'product_id', 'segment', 'time']], by = ['user_id', 'product_id'], on = 'time', tolerance = pd.Timedelta(days=7), direction = 'forward', suffixes = ('', '_bsk'))\n",
    "view_cart_purchase = pd.merge_asof(view_cart, purchase[['user_id', 'product_id', 'segment', 'time']], by = ['user_id', 'product_id'], on = 'time', tolerance = pd.Timedelta(days=7), direction = 'forward', suffixes = ('', '_pch'))\n",
    "view_purchase = pd.merge_asof(view, purchase[['user_id', 'product_id', 'segment', 'time']], by = ['user_id', 'product_id'], on = 'time', tolerance = pd.Timedelta(days=7), direction = 'forward', suffixes = ('', '_pch'))"
   ]
  },
  {
   "cell_type": "code",
   "execution_count": 6,
   "metadata": {},
   "outputs": [],
   "source": [
    "view_cart_7 = view_cart.copy()\n",
    "view_cart_purchase_7 = view_cart_purchase.copy()"
   ]
  },
  {
   "cell_type": "code",
   "execution_count": null,
   "metadata": {},
   "outputs": [],
   "source": [
    "#합쳐준 테이블을 퍼널 계산이 용이하도록, 'criteria' 칼럼을 만들어 각 view에 대한 최종 단계를 표기해주었습니다. 그리고 집계를 할 때 별다른 추가 코딩 없이 행의 순서가 정렬이 잘 되도록 숫자를 붙쳤습니다. "
   ]
  },
  {
   "cell_type": "code",
   "execution_count": 7,
   "metadata": {},
   "outputs": [
    {
     "data": {
      "text/html": [
       "<div>\n",
       "<style scoped>\n",
       "    .dataframe tbody tr th:only-of-type {\n",
       "        vertical-align: middle;\n",
       "    }\n",
       "\n",
       "    .dataframe tbody tr th {\n",
       "        vertical-align: top;\n",
       "    }\n",
       "\n",
       "    .dataframe thead th {\n",
       "        text-align: right;\n",
       "    }\n",
       "</style>\n",
       "<table border=\"1\" class=\"dataframe\">\n",
       "  <thead>\n",
       "    <tr style=\"text-align: right;\">\n",
       "      <th></th>\n",
       "      <th>Unnamed: 0</th>\n",
       "      <th>event_time</th>\n",
       "      <th>event_type</th>\n",
       "      <th>product_id</th>\n",
       "      <th>category_id</th>\n",
       "      <th>category_code</th>\n",
       "      <th>brand</th>\n",
       "      <th>price</th>\n",
       "      <th>user_id</th>\n",
       "      <th>user_session</th>\n",
       "      <th>time</th>\n",
       "      <th>segment</th>\n",
       "      <th>cluster_5</th>\n",
       "      <th>segment_bsk</th>\n",
       "      <th>segment_pch</th>\n",
       "      <th>criteria</th>\n",
       "    </tr>\n",
       "  </thead>\n",
       "  <tbody>\n",
       "    <tr>\n",
       "      <th>0</th>\n",
       "      <td>9</td>\n",
       "      <td>2019-10-01 00:00:26 UTC</td>\n",
       "      <td>view</td>\n",
       "      <td>5875317</td>\n",
       "      <td>2029082628195353599</td>\n",
       "      <td>None</td>\n",
       "      <td>None</td>\n",
       "      <td>1.59</td>\n",
       "      <td>474232307</td>\n",
       "      <td>445f2b74-5e4c-427e-b7fa-6e0a28b156fe</td>\n",
       "      <td>2019-10-01 00:00:26+00:00</td>\n",
       "      <td>이탈고객</td>\n",
       "      <td>1.0</td>\n",
       "      <td>이탈고객</td>\n",
       "      <td>이탈고객</td>\n",
       "      <td>3_purchase</td>\n",
       "    </tr>\n",
       "    <tr>\n",
       "      <th>1</th>\n",
       "      <td>10</td>\n",
       "      <td>2019-10-01 00:00:28 UTC</td>\n",
       "      <td>view</td>\n",
       "      <td>5692917</td>\n",
       "      <td>1487580004857414477</td>\n",
       "      <td>None</td>\n",
       "      <td>lianail</td>\n",
       "      <td>5.54</td>\n",
       "      <td>555446068</td>\n",
       "      <td>4257671a-efc8-4e58-96c2-3ab457916d78</td>\n",
       "      <td>2019-10-01 00:00:28+00:00</td>\n",
       "      <td>비구매고객</td>\n",
       "      <td>NaN</td>\n",
       "      <td>NaN</td>\n",
       "      <td>NaN</td>\n",
       "      <td>1_view</td>\n",
       "    </tr>\n",
       "    <tr>\n",
       "      <th>2</th>\n",
       "      <td>19</td>\n",
       "      <td>2019-10-01 00:00:48 UTC</td>\n",
       "      <td>view</td>\n",
       "      <td>5819638</td>\n",
       "      <td>1487580008162526182</td>\n",
       "      <td>None</td>\n",
       "      <td>None</td>\n",
       "      <td>21.75</td>\n",
       "      <td>546705258</td>\n",
       "      <td>3b5c65c0-bb1c-453b-b340-4ebf973a3136</td>\n",
       "      <td>2019-10-01 00:00:48+00:00</td>\n",
       "      <td>이탈고객</td>\n",
       "      <td>1.0</td>\n",
       "      <td>NaN</td>\n",
       "      <td>NaN</td>\n",
       "      <td>1_view</td>\n",
       "    </tr>\n",
       "    <tr>\n",
       "      <th>3</th>\n",
       "      <td>21</td>\n",
       "      <td>2019-10-01 00:00:53 UTC</td>\n",
       "      <td>view</td>\n",
       "      <td>5856191</td>\n",
       "      <td>1487580006350586771</td>\n",
       "      <td>appliances.environment.vacuum</td>\n",
       "      <td>runail</td>\n",
       "      <td>24.44</td>\n",
       "      <td>507355498</td>\n",
       "      <td>944c7e9b-40bd-4112-a05b-81e73f37e0c0</td>\n",
       "      <td>2019-10-01 00:00:53+00:00</td>\n",
       "      <td>비구매고객</td>\n",
       "      <td>NaN</td>\n",
       "      <td>NaN</td>\n",
       "      <td>NaN</td>\n",
       "      <td>1_view</td>\n",
       "    </tr>\n",
       "    <tr>\n",
       "      <th>4</th>\n",
       "      <td>39</td>\n",
       "      <td>2019-10-01 00:01:11 UTC</td>\n",
       "      <td>view</td>\n",
       "      <td>5733176</td>\n",
       "      <td>1487580009362096156</td>\n",
       "      <td>None</td>\n",
       "      <td>None</td>\n",
       "      <td>0.60</td>\n",
       "      <td>543446752</td>\n",
       "      <td>4a01cad9-7368-fd9e-d907-d4d85de0b55c</td>\n",
       "      <td>2019-10-01 00:01:11+00:00</td>\n",
       "      <td>이탈고객</td>\n",
       "      <td>1.0</td>\n",
       "      <td>NaN</td>\n",
       "      <td>이탈고객</td>\n",
       "      <td>3_purchase</td>\n",
       "    </tr>\n",
       "    <tr>\n",
       "      <th>...</th>\n",
       "      <td>...</td>\n",
       "      <td>...</td>\n",
       "      <td>...</td>\n",
       "      <td>...</td>\n",
       "      <td>...</td>\n",
       "      <td>...</td>\n",
       "      <td>...</td>\n",
       "      <td>...</td>\n",
       "      <td>...</td>\n",
       "      <td>...</td>\n",
       "      <td>...</td>\n",
       "      <td>...</td>\n",
       "      <td>...</td>\n",
       "      <td>...</td>\n",
       "      <td>...</td>\n",
       "      <td>...</td>\n",
       "    </tr>\n",
       "    <tr>\n",
       "      <th>9657814</th>\n",
       "      <td>4156676</td>\n",
       "      <td>2020-02-29 23:59:29 UTC</td>\n",
       "      <td>view</td>\n",
       "      <td>5931426</td>\n",
       "      <td>1487580007675986893</td>\n",
       "      <td>None</td>\n",
       "      <td>None</td>\n",
       "      <td>1.59</td>\n",
       "      <td>468660421</td>\n",
       "      <td>296dc685-4079-445a-a8d3-a93e5e133faf</td>\n",
       "      <td>2020-02-29 23:59:29+00:00</td>\n",
       "      <td>일반고객</td>\n",
       "      <td>0.0</td>\n",
       "      <td>NaN</td>\n",
       "      <td>NaN</td>\n",
       "      <td>1_view</td>\n",
       "    </tr>\n",
       "    <tr>\n",
       "      <th>9657815</th>\n",
       "      <td>4156677</td>\n",
       "      <td>2020-02-29 23:59:32 UTC</td>\n",
       "      <td>view</td>\n",
       "      <td>5885416</td>\n",
       "      <td>1487580005092295511</td>\n",
       "      <td>None</td>\n",
       "      <td>grattol</td>\n",
       "      <td>6.27</td>\n",
       "      <td>622082947</td>\n",
       "      <td>fb29909b-6ef5-4662-b4ee-288e73e5dc10</td>\n",
       "      <td>2020-02-29 23:59:32+00:00</td>\n",
       "      <td>비구매고객</td>\n",
       "      <td>NaN</td>\n",
       "      <td>NaN</td>\n",
       "      <td>NaN</td>\n",
       "      <td>1_view</td>\n",
       "    </tr>\n",
       "    <tr>\n",
       "      <th>9657816</th>\n",
       "      <td>4156679</td>\n",
       "      <td>2020-02-29 23:59:45 UTC</td>\n",
       "      <td>view</td>\n",
       "      <td>5850628</td>\n",
       "      <td>1602943681873052386</td>\n",
       "      <td>None</td>\n",
       "      <td>grattol</td>\n",
       "      <td>5.24</td>\n",
       "      <td>622090043</td>\n",
       "      <td>ab7d349f-db5d-4790-8ab1-31e5c894459d</td>\n",
       "      <td>2020-02-29 23:59:45+00:00</td>\n",
       "      <td>비구매고객</td>\n",
       "      <td>NaN</td>\n",
       "      <td>NaN</td>\n",
       "      <td>NaN</td>\n",
       "      <td>1_view</td>\n",
       "    </tr>\n",
       "    <tr>\n",
       "      <th>9657817</th>\n",
       "      <td>4156680</td>\n",
       "      <td>2020-02-29 23:59:54 UTC</td>\n",
       "      <td>view</td>\n",
       "      <td>5716351</td>\n",
       "      <td>1487580010872045658</td>\n",
       "      <td>None</td>\n",
       "      <td>irisk</td>\n",
       "      <td>0.79</td>\n",
       "      <td>619841242</td>\n",
       "      <td>18af673b-7fb9-4202-a66d-5c855bc0fd2d</td>\n",
       "      <td>2020-02-29 23:59:54+00:00</td>\n",
       "      <td>비구매고객</td>\n",
       "      <td>NaN</td>\n",
       "      <td>NaN</td>\n",
       "      <td>NaN</td>\n",
       "      <td>1_view</td>\n",
       "    </tr>\n",
       "    <tr>\n",
       "      <th>9657818</th>\n",
       "      <td>4156681</td>\n",
       "      <td>2020-02-29 23:59:59 UTC</td>\n",
       "      <td>view</td>\n",
       "      <td>5927709</td>\n",
       "      <td>1487580013950664926</td>\n",
       "      <td>None</td>\n",
       "      <td>de.lux</td>\n",
       "      <td>3.17</td>\n",
       "      <td>621669991</td>\n",
       "      <td>daa3c677-5360-4327-847e-d29658716b99</td>\n",
       "      <td>2020-02-29 23:59:59+00:00</td>\n",
       "      <td>비구매고객</td>\n",
       "      <td>NaN</td>\n",
       "      <td>NaN</td>\n",
       "      <td>NaN</td>\n",
       "      <td>1_view</td>\n",
       "    </tr>\n",
       "  </tbody>\n",
       "</table>\n",
       "<p>9657819 rows × 16 columns</p>\n",
       "</div>"
      ],
      "text/plain": [
       "         Unnamed: 0               event_time event_type  product_id  \\\n",
       "0                 9  2019-10-01 00:00:26 UTC       view     5875317   \n",
       "1                10  2019-10-01 00:00:28 UTC       view     5692917   \n",
       "2                19  2019-10-01 00:00:48 UTC       view     5819638   \n",
       "3                21  2019-10-01 00:00:53 UTC       view     5856191   \n",
       "4                39  2019-10-01 00:01:11 UTC       view     5733176   \n",
       "...             ...                      ...        ...         ...   \n",
       "9657814     4156676  2020-02-29 23:59:29 UTC       view     5931426   \n",
       "9657815     4156677  2020-02-29 23:59:32 UTC       view     5885416   \n",
       "9657816     4156679  2020-02-29 23:59:45 UTC       view     5850628   \n",
       "9657817     4156680  2020-02-29 23:59:54 UTC       view     5716351   \n",
       "9657818     4156681  2020-02-29 23:59:59 UTC       view     5927709   \n",
       "\n",
       "                 category_id                  category_code    brand  price  \\\n",
       "0        2029082628195353599                           None     None   1.59   \n",
       "1        1487580004857414477                           None  lianail   5.54   \n",
       "2        1487580008162526182                           None     None  21.75   \n",
       "3        1487580006350586771  appliances.environment.vacuum   runail  24.44   \n",
       "4        1487580009362096156                           None     None   0.60   \n",
       "...                      ...                            ...      ...    ...   \n",
       "9657814  1487580007675986893                           None     None   1.59   \n",
       "9657815  1487580005092295511                           None  grattol   6.27   \n",
       "9657816  1602943681873052386                           None  grattol   5.24   \n",
       "9657817  1487580010872045658                           None    irisk   0.79   \n",
       "9657818  1487580013950664926                           None   de.lux   3.17   \n",
       "\n",
       "           user_id                          user_session  \\\n",
       "0        474232307  445f2b74-5e4c-427e-b7fa-6e0a28b156fe   \n",
       "1        555446068  4257671a-efc8-4e58-96c2-3ab457916d78   \n",
       "2        546705258  3b5c65c0-bb1c-453b-b340-4ebf973a3136   \n",
       "3        507355498  944c7e9b-40bd-4112-a05b-81e73f37e0c0   \n",
       "4        543446752  4a01cad9-7368-fd9e-d907-d4d85de0b55c   \n",
       "...            ...                                   ...   \n",
       "9657814  468660421  296dc685-4079-445a-a8d3-a93e5e133faf   \n",
       "9657815  622082947  fb29909b-6ef5-4662-b4ee-288e73e5dc10   \n",
       "9657816  622090043  ab7d349f-db5d-4790-8ab1-31e5c894459d   \n",
       "9657817  619841242  18af673b-7fb9-4202-a66d-5c855bc0fd2d   \n",
       "9657818  621669991  daa3c677-5360-4327-847e-d29658716b99   \n",
       "\n",
       "                             time segment  cluster_5 segment_bsk segment_pch  \\\n",
       "0       2019-10-01 00:00:26+00:00    이탈고객        1.0        이탈고객        이탈고객   \n",
       "1       2019-10-01 00:00:28+00:00   비구매고객        NaN         NaN         NaN   \n",
       "2       2019-10-01 00:00:48+00:00    이탈고객        1.0         NaN         NaN   \n",
       "3       2019-10-01 00:00:53+00:00   비구매고객        NaN         NaN         NaN   \n",
       "4       2019-10-01 00:01:11+00:00    이탈고객        1.0         NaN        이탈고객   \n",
       "...                           ...     ...        ...         ...         ...   \n",
       "9657814 2020-02-29 23:59:29+00:00    일반고객        0.0         NaN         NaN   \n",
       "9657815 2020-02-29 23:59:32+00:00   비구매고객        NaN         NaN         NaN   \n",
       "9657816 2020-02-29 23:59:45+00:00   비구매고객        NaN         NaN         NaN   \n",
       "9657817 2020-02-29 23:59:54+00:00   비구매고객        NaN         NaN         NaN   \n",
       "9657818 2020-02-29 23:59:59+00:00   비구매고객        NaN         NaN         NaN   \n",
       "\n",
       "           criteria  \n",
       "0        3_purchase  \n",
       "1            1_view  \n",
       "2            1_view  \n",
       "3            1_view  \n",
       "4        3_purchase  \n",
       "...             ...  \n",
       "9657814      1_view  \n",
       "9657815      1_view  \n",
       "9657816      1_view  \n",
       "9657817      1_view  \n",
       "9657818      1_view  \n",
       "\n",
       "[9657819 rows x 16 columns]"
      ]
     },
     "execution_count": 7,
     "metadata": {},
     "output_type": "execute_result"
    }
   ],
   "source": [
    "conditions = [\n",
    "    (view_cart_purchase_7['segment_bsk'].isnull()) & (view_cart_purchase_7['segment_pch'].isnull()),\n",
    "    (~view_cart_purchase_7['segment_bsk'].isnull()) & (view_cart_purchase_7['segment_pch'].isnull()),\n",
    "    (~view_cart_purchase_7['segment_bsk'].isnull()) & (~view_cart_purchase_7['segment_pch'].isnull()),\n",
    "    (view_cart_purchase_7['segment_bsk'].isnull()) & (~view_cart_purchase_7['segment_pch'].isnull())\n",
    "]\n",
    "choices = ['1_view', '2_basket', '3_purchase', '3_purchase']\n",
    "\n",
    "view_cart_purchase_7['criteria'] = np.select(conditions, choices, default=None)\n",
    "view_cart_purchase_7"
   ]
  },
  {
   "cell_type": "markdown",
   "metadata": {},
   "source": [
    "### 퍼널 데이터 생성하기"
   ]
  },
  {
   "cell_type": "code",
   "execution_count": null,
   "metadata": {},
   "outputs": [],
   "source": [
    "#그룹화를 통해 먼저 각 고객 segment, criteria에 대한 user_id 수를 집계해준 뒤, basket(cart), view값을 조절해서 funnel 수치를 도출했습니다.\n",
    "#중간 과정이 잘못됐던 건지, 아니면 원래 그런건지 우수 고객의 funnel 수치가 낮게 나왔습니다만...추후에 EDA를 더 해보는 것으로 하고 일단 그대로 시각화를 진행해보았습니다."
   ]
  },
  {
   "cell_type": "code",
   "execution_count": 8,
   "metadata": {},
   "outputs": [
    {
     "data": {
      "text/html": [
       "<div>\n",
       "<style scoped>\n",
       "    .dataframe tbody tr th:only-of-type {\n",
       "        vertical-align: middle;\n",
       "    }\n",
       "\n",
       "    .dataframe tbody tr th {\n",
       "        vertical-align: top;\n",
       "    }\n",
       "\n",
       "    .dataframe thead th {\n",
       "        text-align: right;\n",
       "    }\n",
       "</style>\n",
       "<table border=\"1\" class=\"dataframe\">\n",
       "  <thead>\n",
       "    <tr style=\"text-align: right;\">\n",
       "      <th></th>\n",
       "      <th>segment</th>\n",
       "      <th>criteria</th>\n",
       "      <th>count</th>\n",
       "      <th>adj_count</th>\n",
       "      <th>funnel</th>\n",
       "    </tr>\n",
       "  </thead>\n",
       "  <tbody>\n",
       "    <tr>\n",
       "      <th>0</th>\n",
       "      <td>VIP</td>\n",
       "      <td>1_view</td>\n",
       "      <td>768653</td>\n",
       "      <td>1040726</td>\n",
       "      <td>1.000</td>\n",
       "    </tr>\n",
       "    <tr>\n",
       "      <th>1</th>\n",
       "      <td>VIP</td>\n",
       "      <td>2_basket</td>\n",
       "      <td>99917</td>\n",
       "      <td>272073</td>\n",
       "      <td>0.261</td>\n",
       "    </tr>\n",
       "    <tr>\n",
       "      <th>2</th>\n",
       "      <td>VIP</td>\n",
       "      <td>3_purchase</td>\n",
       "      <td>172156</td>\n",
       "      <td>172156</td>\n",
       "      <td>0.165</td>\n",
       "    </tr>\n",
       "    <tr>\n",
       "      <th>3</th>\n",
       "      <td>비구매고객</td>\n",
       "      <td>1_view</td>\n",
       "      <td>4975269</td>\n",
       "      <td>5651140</td>\n",
       "      <td>1.000</td>\n",
       "    </tr>\n",
       "    <tr>\n",
       "      <th>4</th>\n",
       "      <td>비구매고객</td>\n",
       "      <td>2_basket</td>\n",
       "      <td>467932</td>\n",
       "      <td>503715</td>\n",
       "      <td>0.089</td>\n",
       "    </tr>\n",
       "    <tr>\n",
       "      <th>5</th>\n",
       "      <td>우수고객</td>\n",
       "      <td>1_view</td>\n",
       "      <td>35783</td>\n",
       "      <td>515772</td>\n",
       "      <td>1.000</td>\n",
       "    </tr>\n",
       "    <tr>\n",
       "      <th>6</th>\n",
       "      <td>우수고객</td>\n",
       "      <td>2_basket</td>\n",
       "      <td>4195</td>\n",
       "      <td>12057</td>\n",
       "      <td>0.023</td>\n",
       "    </tr>\n",
       "    <tr>\n",
       "      <th>7</th>\n",
       "      <td>우수고객</td>\n",
       "      <td>3_purchase</td>\n",
       "      <td>7862</td>\n",
       "      <td>7862</td>\n",
       "      <td>0.015</td>\n",
       "    </tr>\n",
       "    <tr>\n",
       "      <th>8</th>\n",
       "      <td>이탈고객</td>\n",
       "      <td>1_view</td>\n",
       "      <td>996009</td>\n",
       "      <td>1372241</td>\n",
       "      <td>1.000</td>\n",
       "    </tr>\n",
       "    <tr>\n",
       "      <th>9</th>\n",
       "      <td>이탈고객</td>\n",
       "      <td>2_basket</td>\n",
       "      <td>122709</td>\n",
       "      <td>368370</td>\n",
       "      <td>0.268</td>\n",
       "    </tr>\n",
       "    <tr>\n",
       "      <th>10</th>\n",
       "      <td>이탈고객</td>\n",
       "      <td>3_purchase</td>\n",
       "      <td>245661</td>\n",
       "      <td>245661</td>\n",
       "      <td>0.179</td>\n",
       "    </tr>\n",
       "    <tr>\n",
       "      <th>11</th>\n",
       "      <td>일반고객</td>\n",
       "      <td>1_view</td>\n",
       "      <td>993807</td>\n",
       "      <td>1598748</td>\n",
       "      <td>1.000</td>\n",
       "    </tr>\n",
       "    <tr>\n",
       "      <th>12</th>\n",
       "      <td>일반고객</td>\n",
       "      <td>2_basket</td>\n",
       "      <td>124945</td>\n",
       "      <td>359280</td>\n",
       "      <td>0.225</td>\n",
       "    </tr>\n",
       "    <tr>\n",
       "      <th>13</th>\n",
       "      <td>일반고객</td>\n",
       "      <td>3_purchase</td>\n",
       "      <td>234335</td>\n",
       "      <td>234335</td>\n",
       "      <td>0.147</td>\n",
       "    </tr>\n",
       "    <tr>\n",
       "      <th>14</th>\n",
       "      <td>중요고객</td>\n",
       "      <td>1_view</td>\n",
       "      <td>296669</td>\n",
       "      <td>642921</td>\n",
       "      <td>1.000</td>\n",
       "    </tr>\n",
       "    <tr>\n",
       "      <th>15</th>\n",
       "      <td>중요고객</td>\n",
       "      <td>2_basket</td>\n",
       "      <td>38392</td>\n",
       "      <td>111917</td>\n",
       "      <td>0.174</td>\n",
       "    </tr>\n",
       "    <tr>\n",
       "      <th>16</th>\n",
       "      <td>중요고객</td>\n",
       "      <td>3_purchase</td>\n",
       "      <td>73525</td>\n",
       "      <td>73525</td>\n",
       "      <td>0.114</td>\n",
       "    </tr>\n",
       "  </tbody>\n",
       "</table>\n",
       "</div>"
      ],
      "text/plain": [
       "   segment    criteria    count  adj_count  funnel\n",
       "0      VIP      1_view   768653    1040726   1.000\n",
       "1      VIP    2_basket    99917     272073   0.261\n",
       "2      VIP  3_purchase   172156     172156   0.165\n",
       "3    비구매고객      1_view  4975269    5651140   1.000\n",
       "4    비구매고객    2_basket   467932     503715   0.089\n",
       "5     우수고객      1_view    35783     515772   1.000\n",
       "6     우수고객    2_basket     4195      12057   0.023\n",
       "7     우수고객  3_purchase     7862       7862   0.015\n",
       "8     이탈고객      1_view   996009    1372241   1.000\n",
       "9     이탈고객    2_basket   122709     368370   0.268\n",
       "10    이탈고객  3_purchase   245661     245661   0.179\n",
       "11    일반고객      1_view   993807    1598748   1.000\n",
       "12    일반고객    2_basket   124945     359280   0.225\n",
       "13    일반고객  3_purchase   234335     234335   0.147\n",
       "14    중요고객      1_view   296669     642921   1.000\n",
       "15    중요고객    2_basket    38392     111917   0.174\n",
       "16    중요고객  3_purchase    73525      73525   0.114"
      ]
     },
     "execution_count": 8,
     "metadata": {},
     "output_type": "execute_result"
    }
   ],
   "source": [
    "funnel_by_seg = view_cart_purchase_7.groupby(['segment', 'criteria']).agg({'user_id':'count'}).rename(columns = {'user_id':'count'}).reset_index()\n",
    "\n",
    "funnel_by_seg = funnel_by_seg.assign(adj_count = np.where(\n",
    "    funnel_by_seg['criteria'] == '1_view',\n",
    "    funnel_by_seg['count'] + funnel_by_seg['count'].shift(+1, fill_value = 0) + funnel_by_seg['count'].shift(-1, fill_value = 0) + funnel_by_seg['count'].shift(-2, fill_value = 0),\n",
    "    np.where(\n",
    "        funnel_by_seg['criteria'] == '2_basket',\n",
    "        funnel_by_seg['count'] + funnel_by_seg['count'].shift(-1, fill_value=0),\n",
    "        funnel_by_seg['count']\n",
    "    )\n",
    "))\n",
    "\n",
    "funnel_by_seg = funnel_by_seg.assign(funnel = (funnel_by_seg['adj_count']/funnel_by_seg.groupby('segment')['adj_count'].transform(max)).round(3))\n",
    "funnel_by_seg"
   ]
  },
  {
   "cell_type": "markdown",
   "metadata": {},
   "source": [
    "### 그래프 생성하기"
   ]
  },
  {
   "cell_type": "code",
   "execution_count": 17,
   "metadata": {},
   "outputs": [
    {
     "data": {
      "application/vnd.plotly.v1+json": {
       "config": {
        "plotlyServerURL": "https://plot.ly"
       },
       "data": [
        {
         "name": "Segment VIP",
         "type": "funnel",
         "x": [
          1,
          0.261,
          0.165
         ],
         "xaxis": "x",
         "y": [
          "1_view",
          "2_basket",
          "3_purchase"
         ],
         "yaxis": "y"
        },
        {
         "name": "Segment 비구매고객",
         "type": "funnel",
         "x": [
          1,
          0.089
         ],
         "xaxis": "x2",
         "y": [
          "1_view",
          "2_basket"
         ],
         "yaxis": "y2"
        },
        {
         "name": "Segment 우수고객",
         "type": "funnel",
         "x": [
          1,
          0.023,
          0.015
         ],
         "xaxis": "x3",
         "y": [
          "1_view",
          "2_basket",
          "3_purchase"
         ],
         "yaxis": "y3"
        },
        {
         "name": "Segment 이탈고객",
         "type": "funnel",
         "x": [
          1,
          0.268,
          0.179
         ],
         "xaxis": "x4",
         "y": [
          "1_view",
          "2_basket",
          "3_purchase"
         ],
         "yaxis": "y4"
        },
        {
         "name": "Segment 일반고객",
         "type": "funnel",
         "x": [
          1,
          0.225,
          0.147
         ],
         "xaxis": "x5",
         "y": [
          "1_view",
          "2_basket",
          "3_purchase"
         ],
         "yaxis": "y5"
        },
        {
         "name": "Segment 중요고객",
         "type": "funnel",
         "x": [
          1,
          0.174,
          0.114
         ],
         "xaxis": "x6",
         "y": [
          "1_view",
          "2_basket",
          "3_purchase"
         ],
         "yaxis": "y6"
        }
       ],
       "layout": {
        "annotations": [
         {
          "font": {
           "size": 16
          },
          "showarrow": false,
          "text": "Segment VIP",
          "x": 0.5,
          "xanchor": "center",
          "xref": "paper",
          "y": 0.9999999999999999,
          "yanchor": "bottom",
          "yref": "paper"
         },
         {
          "font": {
           "size": 16
          },
          "showarrow": false,
          "text": "Segment 비구매고객",
          "x": 0.5,
          "xanchor": "center",
          "xref": "paper",
          "y": 0.8194444444444444,
          "yanchor": "bottom",
          "yref": "paper"
         },
         {
          "font": {
           "size": 16
          },
          "showarrow": false,
          "text": "Segment 우수고객",
          "x": 0.5,
          "xanchor": "center",
          "xref": "paper",
          "y": 0.638888888888889,
          "yanchor": "bottom",
          "yref": "paper"
         },
         {
          "font": {
           "size": 16
          },
          "showarrow": false,
          "text": "Segment 이탈고객",
          "x": 0.5,
          "xanchor": "center",
          "xref": "paper",
          "y": 0.4583333333333333,
          "yanchor": "bottom",
          "yref": "paper"
         },
         {
          "font": {
           "size": 16
          },
          "showarrow": false,
          "text": "Segment 일반고객",
          "x": 0.5,
          "xanchor": "center",
          "xref": "paper",
          "y": 0.2777777777777778,
          "yanchor": "bottom",
          "yref": "paper"
         },
         {
          "font": {
           "size": 16
          },
          "showarrow": false,
          "text": "Segment 중요고객",
          "x": 0.5,
          "xanchor": "center",
          "xref": "paper",
          "y": 0.09722222222222222,
          "yanchor": "bottom",
          "yref": "paper"
         }
        ],
        "height": 2400,
        "showlegend": false,
        "template": {
         "data": {
          "bar": [
           {
            "error_x": {
             "color": "#2a3f5f"
            },
            "error_y": {
             "color": "#2a3f5f"
            },
            "marker": {
             "line": {
              "color": "#E5ECF6",
              "width": 0.5
             },
             "pattern": {
              "fillmode": "overlay",
              "size": 10,
              "solidity": 0.2
             }
            },
            "type": "bar"
           }
          ],
          "barpolar": [
           {
            "marker": {
             "line": {
              "color": "#E5ECF6",
              "width": 0.5
             },
             "pattern": {
              "fillmode": "overlay",
              "size": 10,
              "solidity": 0.2
             }
            },
            "type": "barpolar"
           }
          ],
          "carpet": [
           {
            "aaxis": {
             "endlinecolor": "#2a3f5f",
             "gridcolor": "white",
             "linecolor": "white",
             "minorgridcolor": "white",
             "startlinecolor": "#2a3f5f"
            },
            "baxis": {
             "endlinecolor": "#2a3f5f",
             "gridcolor": "white",
             "linecolor": "white",
             "minorgridcolor": "white",
             "startlinecolor": "#2a3f5f"
            },
            "type": "carpet"
           }
          ],
          "choropleth": [
           {
            "colorbar": {
             "outlinewidth": 0,
             "ticks": ""
            },
            "type": "choropleth"
           }
          ],
          "contour": [
           {
            "colorbar": {
             "outlinewidth": 0,
             "ticks": ""
            },
            "colorscale": [
             [
              0,
              "#0d0887"
             ],
             [
              0.1111111111111111,
              "#46039f"
             ],
             [
              0.2222222222222222,
              "#7201a8"
             ],
             [
              0.3333333333333333,
              "#9c179e"
             ],
             [
              0.4444444444444444,
              "#bd3786"
             ],
             [
              0.5555555555555556,
              "#d8576b"
             ],
             [
              0.6666666666666666,
              "#ed7953"
             ],
             [
              0.7777777777777778,
              "#fb9f3a"
             ],
             [
              0.8888888888888888,
              "#fdca26"
             ],
             [
              1,
              "#f0f921"
             ]
            ],
            "type": "contour"
           }
          ],
          "contourcarpet": [
           {
            "colorbar": {
             "outlinewidth": 0,
             "ticks": ""
            },
            "type": "contourcarpet"
           }
          ],
          "heatmap": [
           {
            "colorbar": {
             "outlinewidth": 0,
             "ticks": ""
            },
            "colorscale": [
             [
              0,
              "#0d0887"
             ],
             [
              0.1111111111111111,
              "#46039f"
             ],
             [
              0.2222222222222222,
              "#7201a8"
             ],
             [
              0.3333333333333333,
              "#9c179e"
             ],
             [
              0.4444444444444444,
              "#bd3786"
             ],
             [
              0.5555555555555556,
              "#d8576b"
             ],
             [
              0.6666666666666666,
              "#ed7953"
             ],
             [
              0.7777777777777778,
              "#fb9f3a"
             ],
             [
              0.8888888888888888,
              "#fdca26"
             ],
             [
              1,
              "#f0f921"
             ]
            ],
            "type": "heatmap"
           }
          ],
          "heatmapgl": [
           {
            "colorbar": {
             "outlinewidth": 0,
             "ticks": ""
            },
            "colorscale": [
             [
              0,
              "#0d0887"
             ],
             [
              0.1111111111111111,
              "#46039f"
             ],
             [
              0.2222222222222222,
              "#7201a8"
             ],
             [
              0.3333333333333333,
              "#9c179e"
             ],
             [
              0.4444444444444444,
              "#bd3786"
             ],
             [
              0.5555555555555556,
              "#d8576b"
             ],
             [
              0.6666666666666666,
              "#ed7953"
             ],
             [
              0.7777777777777778,
              "#fb9f3a"
             ],
             [
              0.8888888888888888,
              "#fdca26"
             ],
             [
              1,
              "#f0f921"
             ]
            ],
            "type": "heatmapgl"
           }
          ],
          "histogram": [
           {
            "marker": {
             "pattern": {
              "fillmode": "overlay",
              "size": 10,
              "solidity": 0.2
             }
            },
            "type": "histogram"
           }
          ],
          "histogram2d": [
           {
            "colorbar": {
             "outlinewidth": 0,
             "ticks": ""
            },
            "colorscale": [
             [
              0,
              "#0d0887"
             ],
             [
              0.1111111111111111,
              "#46039f"
             ],
             [
              0.2222222222222222,
              "#7201a8"
             ],
             [
              0.3333333333333333,
              "#9c179e"
             ],
             [
              0.4444444444444444,
              "#bd3786"
             ],
             [
              0.5555555555555556,
              "#d8576b"
             ],
             [
              0.6666666666666666,
              "#ed7953"
             ],
             [
              0.7777777777777778,
              "#fb9f3a"
             ],
             [
              0.8888888888888888,
              "#fdca26"
             ],
             [
              1,
              "#f0f921"
             ]
            ],
            "type": "histogram2d"
           }
          ],
          "histogram2dcontour": [
           {
            "colorbar": {
             "outlinewidth": 0,
             "ticks": ""
            },
            "colorscale": [
             [
              0,
              "#0d0887"
             ],
             [
              0.1111111111111111,
              "#46039f"
             ],
             [
              0.2222222222222222,
              "#7201a8"
             ],
             [
              0.3333333333333333,
              "#9c179e"
             ],
             [
              0.4444444444444444,
              "#bd3786"
             ],
             [
              0.5555555555555556,
              "#d8576b"
             ],
             [
              0.6666666666666666,
              "#ed7953"
             ],
             [
              0.7777777777777778,
              "#fb9f3a"
             ],
             [
              0.8888888888888888,
              "#fdca26"
             ],
             [
              1,
              "#f0f921"
             ]
            ],
            "type": "histogram2dcontour"
           }
          ],
          "mesh3d": [
           {
            "colorbar": {
             "outlinewidth": 0,
             "ticks": ""
            },
            "type": "mesh3d"
           }
          ],
          "parcoords": [
           {
            "line": {
             "colorbar": {
              "outlinewidth": 0,
              "ticks": ""
             }
            },
            "type": "parcoords"
           }
          ],
          "pie": [
           {
            "automargin": true,
            "type": "pie"
           }
          ],
          "scatter": [
           {
            "fillpattern": {
             "fillmode": "overlay",
             "size": 10,
             "solidity": 0.2
            },
            "type": "scatter"
           }
          ],
          "scatter3d": [
           {
            "line": {
             "colorbar": {
              "outlinewidth": 0,
              "ticks": ""
             }
            },
            "marker": {
             "colorbar": {
              "outlinewidth": 0,
              "ticks": ""
             }
            },
            "type": "scatter3d"
           }
          ],
          "scattercarpet": [
           {
            "marker": {
             "colorbar": {
              "outlinewidth": 0,
              "ticks": ""
             }
            },
            "type": "scattercarpet"
           }
          ],
          "scattergeo": [
           {
            "marker": {
             "colorbar": {
              "outlinewidth": 0,
              "ticks": ""
             }
            },
            "type": "scattergeo"
           }
          ],
          "scattergl": [
           {
            "marker": {
             "colorbar": {
              "outlinewidth": 0,
              "ticks": ""
             }
            },
            "type": "scattergl"
           }
          ],
          "scattermapbox": [
           {
            "marker": {
             "colorbar": {
              "outlinewidth": 0,
              "ticks": ""
             }
            },
            "type": "scattermapbox"
           }
          ],
          "scatterpolar": [
           {
            "marker": {
             "colorbar": {
              "outlinewidth": 0,
              "ticks": ""
             }
            },
            "type": "scatterpolar"
           }
          ],
          "scatterpolargl": [
           {
            "marker": {
             "colorbar": {
              "outlinewidth": 0,
              "ticks": ""
             }
            },
            "type": "scatterpolargl"
           }
          ],
          "scatterternary": [
           {
            "marker": {
             "colorbar": {
              "outlinewidth": 0,
              "ticks": ""
             }
            },
            "type": "scatterternary"
           }
          ],
          "surface": [
           {
            "colorbar": {
             "outlinewidth": 0,
             "ticks": ""
            },
            "colorscale": [
             [
              0,
              "#0d0887"
             ],
             [
              0.1111111111111111,
              "#46039f"
             ],
             [
              0.2222222222222222,
              "#7201a8"
             ],
             [
              0.3333333333333333,
              "#9c179e"
             ],
             [
              0.4444444444444444,
              "#bd3786"
             ],
             [
              0.5555555555555556,
              "#d8576b"
             ],
             [
              0.6666666666666666,
              "#ed7953"
             ],
             [
              0.7777777777777778,
              "#fb9f3a"
             ],
             [
              0.8888888888888888,
              "#fdca26"
             ],
             [
              1,
              "#f0f921"
             ]
            ],
            "type": "surface"
           }
          ],
          "table": [
           {
            "cells": {
             "fill": {
              "color": "#EBF0F8"
             },
             "line": {
              "color": "white"
             }
            },
            "header": {
             "fill": {
              "color": "#C8D4E3"
             },
             "line": {
              "color": "white"
             }
            },
            "type": "table"
           }
          ]
         },
         "layout": {
          "annotationdefaults": {
           "arrowcolor": "#2a3f5f",
           "arrowhead": 0,
           "arrowwidth": 1
          },
          "autotypenumbers": "strict",
          "coloraxis": {
           "colorbar": {
            "outlinewidth": 0,
            "ticks": ""
           }
          },
          "colorscale": {
           "diverging": [
            [
             0,
             "#8e0152"
            ],
            [
             0.1,
             "#c51b7d"
            ],
            [
             0.2,
             "#de77ae"
            ],
            [
             0.3,
             "#f1b6da"
            ],
            [
             0.4,
             "#fde0ef"
            ],
            [
             0.5,
             "#f7f7f7"
            ],
            [
             0.6,
             "#e6f5d0"
            ],
            [
             0.7,
             "#b8e186"
            ],
            [
             0.8,
             "#7fbc41"
            ],
            [
             0.9,
             "#4d9221"
            ],
            [
             1,
             "#276419"
            ]
           ],
           "sequential": [
            [
             0,
             "#0d0887"
            ],
            [
             0.1111111111111111,
             "#46039f"
            ],
            [
             0.2222222222222222,
             "#7201a8"
            ],
            [
             0.3333333333333333,
             "#9c179e"
            ],
            [
             0.4444444444444444,
             "#bd3786"
            ],
            [
             0.5555555555555556,
             "#d8576b"
            ],
            [
             0.6666666666666666,
             "#ed7953"
            ],
            [
             0.7777777777777778,
             "#fb9f3a"
            ],
            [
             0.8888888888888888,
             "#fdca26"
            ],
            [
             1,
             "#f0f921"
            ]
           ],
           "sequentialminus": [
            [
             0,
             "#0d0887"
            ],
            [
             0.1111111111111111,
             "#46039f"
            ],
            [
             0.2222222222222222,
             "#7201a8"
            ],
            [
             0.3333333333333333,
             "#9c179e"
            ],
            [
             0.4444444444444444,
             "#bd3786"
            ],
            [
             0.5555555555555556,
             "#d8576b"
            ],
            [
             0.6666666666666666,
             "#ed7953"
            ],
            [
             0.7777777777777778,
             "#fb9f3a"
            ],
            [
             0.8888888888888888,
             "#fdca26"
            ],
            [
             1,
             "#f0f921"
            ]
           ]
          },
          "colorway": [
           "#636efa",
           "#EF553B",
           "#00cc96",
           "#ab63fa",
           "#FFA15A",
           "#19d3f3",
           "#FF6692",
           "#B6E880",
           "#FF97FF",
           "#FECB52"
          ],
          "font": {
           "color": "#2a3f5f"
          },
          "geo": {
           "bgcolor": "white",
           "lakecolor": "white",
           "landcolor": "#E5ECF6",
           "showlakes": true,
           "showland": true,
           "subunitcolor": "white"
          },
          "hoverlabel": {
           "align": "left"
          },
          "hovermode": "closest",
          "mapbox": {
           "style": "light"
          },
          "paper_bgcolor": "white",
          "plot_bgcolor": "#E5ECF6",
          "polar": {
           "angularaxis": {
            "gridcolor": "white",
            "linecolor": "white",
            "ticks": ""
           },
           "bgcolor": "#E5ECF6",
           "radialaxis": {
            "gridcolor": "white",
            "linecolor": "white",
            "ticks": ""
           }
          },
          "scene": {
           "xaxis": {
            "backgroundcolor": "#E5ECF6",
            "gridcolor": "white",
            "gridwidth": 2,
            "linecolor": "white",
            "showbackground": true,
            "ticks": "",
            "zerolinecolor": "white"
           },
           "yaxis": {
            "backgroundcolor": "#E5ECF6",
            "gridcolor": "white",
            "gridwidth": 2,
            "linecolor": "white",
            "showbackground": true,
            "ticks": "",
            "zerolinecolor": "white"
           },
           "zaxis": {
            "backgroundcolor": "#E5ECF6",
            "gridcolor": "white",
            "gridwidth": 2,
            "linecolor": "white",
            "showbackground": true,
            "ticks": "",
            "zerolinecolor": "white"
           }
          },
          "shapedefaults": {
           "line": {
            "color": "#2a3f5f"
           }
          },
          "ternary": {
           "aaxis": {
            "gridcolor": "white",
            "linecolor": "white",
            "ticks": ""
           },
           "baxis": {
            "gridcolor": "white",
            "linecolor": "white",
            "ticks": ""
           },
           "bgcolor": "#E5ECF6",
           "caxis": {
            "gridcolor": "white",
            "linecolor": "white",
            "ticks": ""
           }
          },
          "title": {
           "x": 0.05
          },
          "xaxis": {
           "automargin": true,
           "gridcolor": "white",
           "linecolor": "white",
           "ticks": "",
           "title": {
            "standoff": 15
           },
           "zerolinecolor": "white",
           "zerolinewidth": 2
          },
          "yaxis": {
           "automargin": true,
           "gridcolor": "white",
           "linecolor": "white",
           "ticks": "",
           "title": {
            "standoff": 15
           },
           "zerolinecolor": "white",
           "zerolinewidth": 2
          }
         }
        },
        "title": {
         "text": "Segment-wise Funnel Chart"
        },
        "xaxis": {
         "anchor": "y",
         "domain": [
          0,
          1
         ]
        },
        "xaxis2": {
         "anchor": "y2",
         "domain": [
          0,
          1
         ]
        },
        "xaxis3": {
         "anchor": "y3",
         "domain": [
          0,
          1
         ]
        },
        "xaxis4": {
         "anchor": "y4",
         "domain": [
          0,
          1
         ]
        },
        "xaxis5": {
         "anchor": "y5",
         "domain": [
          0,
          1
         ]
        },
        "xaxis6": {
         "anchor": "y6",
         "domain": [
          0,
          1
         ]
        },
        "yaxis": {
         "anchor": "x",
         "domain": [
          0.9027777777777777,
          0.9999999999999999
         ]
        },
        "yaxis2": {
         "anchor": "x2",
         "domain": [
          0.7222222222222222,
          0.8194444444444444
         ]
        },
        "yaxis3": {
         "anchor": "x3",
         "domain": [
          0.5416666666666667,
          0.638888888888889
         ]
        },
        "yaxis4": {
         "anchor": "x4",
         "domain": [
          0.3611111111111111,
          0.4583333333333333
         ]
        },
        "yaxis5": {
         "anchor": "x5",
         "domain": [
          0.18055555555555555,
          0.2777777777777778
         ]
        },
        "yaxis6": {
         "anchor": "x6",
         "domain": [
          0,
          0.09722222222222222
         ]
        }
       }
      }
     },
     "metadata": {},
     "output_type": "display_data"
    }
   ],
   "source": [
    "from plotly.subplots import make_subplots\n",
    "import plotly.graph_objects as go\n",
    "\n",
    "# 세그먼트 리스트 추출\n",
    "segments = funnel_by_seg['segment'].unique()\n",
    "\n",
    "# 서브플롯 생성\n",
    "fig = make_subplots(\n",
    "    rows=len(segments), cols=1,\n",
    "    subplot_titles=[f'Segment {seg}' for seg in segments]\n",
    ")\n",
    "\n",
    "# 각 세그먼트별 퍼널 그래프 생성\n",
    "for i, seg in enumerate(segments):\n",
    "    seg_data = funnel_by_seg[funnel_by_seg['segment'] == seg]\n",
    "    fig.add_trace(\n",
    "        go.Funnel(\n",
    "            y=seg_data['criteria'],\n",
    "            x=seg_data['funnel'],\n",
    "            name=f'Segment {seg}'\n",
    "        ),\n",
    "        row=i + 1, col=1\n",
    "    )\n",
    "\n",
    "# 그래프 레이아웃 설정\n",
    "fig.update_layout(\n",
    "    title='Segment-wise Funnel Chart',\n",
    "    height=400 * len(segments),  # 세그먼트 개수에 따라 높이 조절\n",
    "    showlegend=False\n",
    ")\n",
    "\n",
    "# 그래프 출력\n",
    "fig.show()"
   ]
  }
 ],
 "metadata": {
  "kernelspec": {
   "display_name": "Python 3",
   "language": "python",
   "name": "python3"
  },
  "language_info": {
   "codemirror_mode": {
    "name": "ipython",
    "version": 3
   },
   "file_extension": ".py",
   "mimetype": "text/x-python",
   "name": "python",
   "nbconvert_exporter": "python",
   "pygments_lexer": "ipython3",
   "version": "3.8.6"
  }
 },
 "nbformat": 4,
 "nbformat_minor": 2
}
